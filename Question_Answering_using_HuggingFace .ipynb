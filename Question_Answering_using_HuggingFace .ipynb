{
 "cells": [
  {
   "cell_type": "code",
   "execution_count": 1,
   "metadata": {
    "colab": {
     "base_uri": "https://localhost:8080/"
    },
    "id": "F93t2eeQt9Xm",
    "outputId": "b3dfd857-9ce3-492a-d282-d3d060cdad5d"
   },
   "outputs": [],
   "source": [
    "#The code  Hugging Face Transformers library we installing \n",
    "# !pip install -q transformers"
   ]
  },
  {
   "cell_type": "code",
   "execution_count": 2,
   "metadata": {},
   "outputs": [],
   "source": [
    "# we installing torch library\n",
    "# !pip install torch"
   ]
  },
  {
   "cell_type": "code",
   "execution_count": 3,
   "metadata": {
    "colab": {
     "base_uri": "https://localhost:8080/",
     "height": 36
    },
    "id": "Ztvc8MFgu0wZ",
    "outputId": "e576b201-a7ed-4e76-bf47-913f85decfe8"
   },
   "outputs": [
    {
     "data": {
      "text/plain": [
       "'2.3.0+cpu'"
      ]
     },
     "execution_count": 3,
     "metadata": {},
     "output_type": "execute_result"
    }
   ],
   "source": [
    "# import torch and checking version or torch\n",
    "\n",
    "import torch\n",
    "torch.__version__"
   ]
  },
  {
   "cell_type": "code",
   "execution_count": 4,
   "metadata": {
    "colab": {
     "base_uri": "https://localhost:8080/"
    },
    "id": "E8XpG6XRu0zI",
    "outputId": "c1ecb859-5dd9-4b7e-e5ca-e5c7197abc39"
   },
   "outputs": [],
   "source": [
    "#The code installs a specific library called torch-scatter we installing specific version\n",
    "# !pip install torch-scatter -f https://pytorch-geometric.com/whl/torch-1.8.0+cu101.html"
   ]
  },
  {
   "cell_type": "code",
   "execution_count": 5,
   "metadata": {},
   "outputs": [],
   "source": [
    "#THis library using for filterwarnings\n",
    "import warnings\n",
    "warnings.filterwarnings(\"ignore\")"
   ]
  },
  {
   "cell_type": "code",
   "execution_count": 6,
   "metadata": {
    "id": "xd_SmhcWu02A"
   },
   "outputs": [],
   "source": [
    "from transformers import pipeline # we import pipeline using transfromer library\n",
    "import pandas as pd # we installing library pandas for dataframe"
   ]
  },
  {
   "cell_type": "code",
   "execution_count": 7,
   "metadata": {
    "colab": {
     "base_uri": "https://localhost:8080/",
     "height": 177,
     "referenced_widgets": [
      "809cdba5a2714815a8a384f742947811",
      "fb42e780c4a54066a46476e66ab9a596",
      "28e48cc3651a42c994e14df80a182f78",
      "7adb13fede4f4fbdb0a836ef494c52fc",
      "7c5a7993faa940c5b34489aeea90a3eb",
      "d4bfc543c3644f82a357e973b64bc8a8",
      "72fb573f2cfe4e5ba5a419e0c5ded7e6",
      "da83ae4b20be457aa77808ba175c88c7",
      "bb624fe65d84454e95b9c5da8ab85b40",
      "f7eff88e134742d6ac34207d459c88c7",
      "49682e6d3b8a4a30b7a0c9010e2b2987",
      "4526579e76b144179877b0a1f3ac31cc",
      "d10455ab1c9e4e0e8049e4886c062c35",
      "ff2f5c3ee2fe4c0982afaa6734edca2d",
      "4440456c61a743558c3a08a74ef76b89",
      "a20b91acbe9d4963a80aacf17162629d",
      "366f00a510b542c18a465acee6634833",
      "b0f7f63452f14656a0bbecf54a94e71a",
      "fac4f183b6404073896b1cae65f92a27",
      "f0e37b69eb4744a486d6713c73b929bb",
      "1963eb8c22e4439a822c215f7c758508",
      "38f4ad7d8fc04a29bf4dc1a498da09b2",
      "4b22446521514bc292fec8fb6ce9e351",
      "a524132f6c084615ae17a611efefe6c9",
      "84177bed13a245aaa2ee72a56837254f",
      "7f6660a43a6b4527b013465cadd770e2",
      "85b75301787b48fead13d09852ead9a7",
      "9a6030d5f4fe4515a986d714bf4bf2c2",
      "5accf21b00da4b67a5a9854ec739a33c",
      "f8ca8cefb6124d3ab83811bc0a14669a",
      "589cf0c169da44fc8291472f3a0f851d",
      "b3c6557e79d74f4da1dbd82c7b41b9dd",
      "2efb493b811540a386353dbac1d5a37b",
      "6064a9d5b5e449ababa07c270f5f4d59",
      "6b5771b7cc4340dc9e79f70ec045a6bd",
      "0e193af610584ce5a0cd88dc2daa9d43",
      "c57f0510cf434baaafa2e7a6b221349c",
      "efbff15f803a43beb78f7f41d3a654fe",
      "f4559f9788854e5fa6b1f2194d2f59e9",
      "85d4491ba3e7403895cdd7c5598dc8eb",
      "b1cf2b49ec9a413d8d9bfbb1bdcef407",
      "d0bb9c96cdad47eba50960714c513100",
      "a7800a6b5aed4f789edf1a5e275742e7",
      "7235e6a9ecf64041b85ffdc3e8dd1340",
      "327f37f4a8f944c7a5a3a2b011c04c9d",
      "5fc00de6cd824a528933bb54ef82b259",
      "6f14c7cb27ff4b3c8c0987e362a9c7bb",
      "1502688dfa58465a98dd23553635cba5",
      "8a684a760c414b25abb1302a99931a86",
      "e3ae8e77998247e7a219528a789239f5",
      "14f2b1f8fe0a411bbc217acb4c2de048",
      "18dfda936881409d9fb54ef6a1ae9c2a",
      "a9207b88d52245429e6748cfbefa7a94",
      "e2f714732e41433ab7138aeacee96f48",
      "bf9a24fe77f44eea827e1a8af8d576b1"
     ]
    },
    "id": "1r9Z2vOQu04w",
    "outputId": "9c466428-6306-49d4-e78d-d1a25d040701"
   },
   "outputs": [],
   "source": [
    " # we creates a pipeline specifically designed for answering questions based on a table using a pre-trained model. \n",
    "pipe = pipeline(task=\"table-question-answering\",model=\"google/tapas-base-finetuned-wtq\")"
   ]
  },
  {
   "cell_type": "code",
   "execution_count": 8,
   "metadata": {
    "id": "GQxutdumu070"
   },
   "outputs": [],
   "source": [
    "#uploading csv \n",
    "table=pd.read_csv(\"pp.csv\")"
   ]
  },
  {
   "cell_type": "code",
   "execution_count": 9,
   "metadata": {
    "id": "amnKLrHVxIRK"
   },
   "outputs": [],
   "source": [
    "# converts the data types of all elements in a pandas DataFrame (table) to strings\n",
    "table = table.astype(str)"
   ]
  },
  {
   "cell_type": "code",
   "execution_count": 10,
   "metadata": {
    "colab": {
     "base_uri": "https://localhost:8080/",
     "height": 363
    },
    "id": "P9vO-gHIxIUp",
    "outputId": "663770f0-72a6-4b25-c2c2-2346caa14c1b"
   },
   "outputs": [
    {
     "data": {
      "text/html": [
       "<div>\n",
       "<style scoped>\n",
       "    .dataframe tbody tr th:only-of-type {\n",
       "        vertical-align: middle;\n",
       "    }\n",
       "\n",
       "    .dataframe tbody tr th {\n",
       "        vertical-align: top;\n",
       "    }\n",
       "\n",
       "    .dataframe thead th {\n",
       "        text-align: right;\n",
       "    }\n",
       "</style>\n",
       "<table border=\"1\" class=\"dataframe\">\n",
       "  <thead>\n",
       "    <tr style=\"text-align: right;\">\n",
       "      <th></th>\n",
       "      <th>POS</th>\n",
       "      <th>Player</th>\n",
       "      <th>Team</th>\n",
       "      <th>Span</th>\n",
       "      <th>Innings</th>\n",
       "      <th>Runs</th>\n",
       "      <th>Highest_Score</th>\n",
       "      <th>Average</th>\n",
       "      <th>Strike_Rate</th>\n",
       "    </tr>\n",
       "  </thead>\n",
       "  <tbody>\n",
       "    <tr>\n",
       "      <th>0</th>\n",
       "      <td>1</td>\n",
       "      <td>Sachin Tendulkar</td>\n",
       "      <td>India</td>\n",
       "      <td>1989-2012</td>\n",
       "      <td>452</td>\n",
       "      <td>18426</td>\n",
       "      <td>200</td>\n",
       "      <td>44.83</td>\n",
       "      <td>86.23</td>\n",
       "    </tr>\n",
       "    <tr>\n",
       "      <th>1</th>\n",
       "      <td>2</td>\n",
       "      <td>Kumar Sangakkara</td>\n",
       "      <td>Sri Lanka</td>\n",
       "      <td>2000-2015</td>\n",
       "      <td>380</td>\n",
       "      <td>14234</td>\n",
       "      <td>169</td>\n",
       "      <td>41.98</td>\n",
       "      <td>78.86</td>\n",
       "    </tr>\n",
       "    <tr>\n",
       "      <th>2</th>\n",
       "      <td>3</td>\n",
       "      <td>Ricky Ponting</td>\n",
       "      <td>Australia</td>\n",
       "      <td>1995-2012</td>\n",
       "      <td>365</td>\n",
       "      <td>13704</td>\n",
       "      <td>164</td>\n",
       "      <td>42.03</td>\n",
       "      <td>80.39</td>\n",
       "    </tr>\n",
       "    <tr>\n",
       "      <th>3</th>\n",
       "      <td>4</td>\n",
       "      <td>Sanath Jayasuriya</td>\n",
       "      <td>Sri Lanka</td>\n",
       "      <td>1989-2011</td>\n",
       "      <td>433</td>\n",
       "      <td>13430</td>\n",
       "      <td>189</td>\n",
       "      <td>32.36</td>\n",
       "      <td>91.2</td>\n",
       "    </tr>\n",
       "    <tr>\n",
       "      <th>4</th>\n",
       "      <td>5</td>\n",
       "      <td>Mahela Jayawardene</td>\n",
       "      <td>Sri Lanka</td>\n",
       "      <td>1998-2015</td>\n",
       "      <td>418</td>\n",
       "      <td>12650</td>\n",
       "      <td>144</td>\n",
       "      <td>33.37</td>\n",
       "      <td>78.96</td>\n",
       "    </tr>\n",
       "    <tr>\n",
       "      <th>5</th>\n",
       "      <td>6</td>\n",
       "      <td>Virat Kohli</td>\n",
       "      <td>India</td>\n",
       "      <td>2008-2020</td>\n",
       "      <td>236</td>\n",
       "      <td>11867</td>\n",
       "      <td>183</td>\n",
       "      <td>59.85</td>\n",
       "      <td>93.39</td>\n",
       "    </tr>\n",
       "    <tr>\n",
       "      <th>6</th>\n",
       "      <td>7</td>\n",
       "      <td>Inzamam-ul-Haq</td>\n",
       "      <td>Pakistan</td>\n",
       "      <td>1991-2007</td>\n",
       "      <td>350</td>\n",
       "      <td>11739</td>\n",
       "      <td>137</td>\n",
       "      <td>39.52</td>\n",
       "      <td>74.24</td>\n",
       "    </tr>\n",
       "    <tr>\n",
       "      <th>7</th>\n",
       "      <td>8</td>\n",
       "      <td>Jacques Kallis</td>\n",
       "      <td>South Africa</td>\n",
       "      <td>1996-2014</td>\n",
       "      <td>314</td>\n",
       "      <td>11579</td>\n",
       "      <td>139</td>\n",
       "      <td>44.36</td>\n",
       "      <td>72.89</td>\n",
       "    </tr>\n",
       "    <tr>\n",
       "      <th>8</th>\n",
       "      <td>9</td>\n",
       "      <td>Saurav Ganguly</td>\n",
       "      <td>India</td>\n",
       "      <td>1992-2007</td>\n",
       "      <td>300</td>\n",
       "      <td>11363</td>\n",
       "      <td>183</td>\n",
       "      <td>41.02</td>\n",
       "      <td>73.7</td>\n",
       "    </tr>\n",
       "    <tr>\n",
       "      <th>9</th>\n",
       "      <td>10</td>\n",
       "      <td>Rahul Dravid</td>\n",
       "      <td>India</td>\n",
       "      <td>1996-2011</td>\n",
       "      <td>318</td>\n",
       "      <td>10889</td>\n",
       "      <td>153</td>\n",
       "      <td>39.16</td>\n",
       "      <td>71.24</td>\n",
       "    </tr>\n",
       "  </tbody>\n",
       "</table>\n",
       "</div>"
      ],
      "text/plain": [
       "  POS              Player          Team       Span Innings   Runs  \\\n",
       "0   1    Sachin Tendulkar         India  1989-2012     452  18426   \n",
       "1   2    Kumar Sangakkara     Sri Lanka  2000-2015     380  14234   \n",
       "2   3       Ricky Ponting     Australia  1995-2012     365  13704   \n",
       "3   4   Sanath Jayasuriya     Sri Lanka  1989-2011     433  13430   \n",
       "4   5  Mahela Jayawardene     Sri Lanka  1998-2015     418  12650   \n",
       "5   6         Virat Kohli         India  2008-2020     236  11867   \n",
       "6   7      Inzamam-ul-Haq      Pakistan  1991-2007     350  11739   \n",
       "7   8      Jacques Kallis  South Africa  1996-2014     314  11579   \n",
       "8   9      Saurav Ganguly         India  1992-2007     300  11363   \n",
       "9  10        Rahul Dravid         India  1996-2011     318  10889   \n",
       "\n",
       "  Highest_Score Average Strike_Rate  \n",
       "0           200   44.83       86.23  \n",
       "1           169   41.98       78.86  \n",
       "2           164   42.03       80.39  \n",
       "3           189   32.36        91.2  \n",
       "4           144   33.37       78.96  \n",
       "5           183   59.85       93.39  \n",
       "6           137   39.52       74.24  \n",
       "7           139   44.36       72.89  \n",
       "8           183   41.02        73.7  \n",
       "9           153   39.16       71.24  "
      ]
     },
     "execution_count": 10,
     "metadata": {},
     "output_type": "execute_result"
    }
   ],
   "source": [
    "table"
   ]
  },
  {
   "cell_type": "code",
   "execution_count": 11,
   "metadata": {
    "colab": {
     "base_uri": "https://localhost:8080/"
    },
    "id": "VsQ6vnWexIXW",
    "outputId": "c9a78b2f-1cdf-4774-b936-e03d82a42cc7"
   },
   "outputs": [
    {
     "name": "stdout",
     "output_type": "stream",
     "text": [
      "Sachin Tendulkar\n"
     ]
    }
   ],
   "source": [
    "#The code provid combines the previously explained functionalities to answer a question about a table using a pre-trained model\n",
    "query = \"Who has scored the highest runs?\"\n",
    "print(pipe(table=table,query=query)[\"answer\"])"
   ]
  },
  {
   "cell_type": "code",
   "execution_count": 15,
   "metadata": {
    "id": "3goEexBYu0_I"
   },
   "outputs": [
    {
     "name": "stdin",
     "output_type": "stream",
     "text": [
      "type the Question:  which player make average runs 33.37\n"
     ]
    },
    {
     "name": "stdout",
     "output_type": "stream",
     "text": [
      "Mahela Jayawardene\n"
     ]
    }
   ],
   "source": [
    "#The code you provided combines user input and table-based question answering\n",
    "query=input(\"type the Question: \")\n",
    "print(pipe(table=table,query=query)[\"answer\"])"
   ]
  },
  {
   "cell_type": "code",
   "execution_count": null,
   "metadata": {},
   "outputs": [],
   "source": []
  }
 ],
 "metadata": {
  "colab": {
   "provenance": []
  },
  "kernelspec": {
   "display_name": "Python 3 (ipykernel)",
   "language": "python",
   "name": "python3"
  },
  "language_info": {
   "codemirror_mode": {
    "name": "ipython",
    "version": 3
   },
   "file_extension": ".py",
   "mimetype": "text/x-python",
   "name": "python",
   "nbconvert_exporter": "python",
   "pygments_lexer": "ipython3",
   "version": "3.11.7"
  },
  "widgets": {
   "application/vnd.jupyter.widget-state+json": {
    "state": {},
    "version_major": 2,
    "version_minor": 0
   }
  }
 },
 "nbformat": 4,
 "nbformat_minor": 4
}
